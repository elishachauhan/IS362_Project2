{
 "cells": [
  {
   "cell_type": "markdown",
   "metadata": {},
   "source": [
    "## Project 2\n",
    "\n",
    "### Tidying Data"
   ]
  },
  {
   "cell_type": "markdown",
   "metadata": {},
   "source": [
    "#### Project Task:\n",
    "\n",
    "(1) Choose any three of the “wide” datasets identified in the Week 5 Discussion items. (You may use your own dataset; please don’t use my Sample Post dataset, since that was used in your Project 1 assignment!) For each of the three chosen datasets:\n",
    "* Create a .CSV file (or optionally, a MySQL database!) that includes all of the information included in the dataset. You’re encouraged to use a “wide” structure similar to how the information appears in the discussion item, so that you can practice tidying and transformations as described below.\n",
    "* Read the information from your .CSV file into Python, and use pandas as needed to tidy and transform your data. [Most of your grade will be based on this step!]\n",
    "* Perform the analysis requested in the discussion item.\n",
    "* Your code should be in an Jupyter Notebook, posted to your GitHub repository, and should include narrative descriptions of your data cleanup work, analysis, and conclusions.\n",
    "\n",
    "(2) Please include the URL for the Jupyter Notebook in your homework submission, for each of the three chosen datasets. You may create a single Jupyter Notebook, or three separate notebooks."
   ]
  },
  {
   "cell_type": "code",
   "execution_count": 1,
   "metadata": {
    "collapsed": true
   },
   "outputs": [],
   "source": [
    "import numpy as np\n",
    "import pandas as pd\n",
    "import re"
   ]
  },
  {
   "cell_type": "markdown",
   "metadata": {},
   "source": [
    "##### Dataset #1:"
   ]
  },
  {
   "cell_type": "markdown",
   "metadata": {},
   "source": [
    "Leading Causes of Death in New York City\n",
    "\n",
    "- Which cause of death had most deaths in 2014?\n",
    "- Which cause of death had the lowest death rate in 2014?\n",
    "- What are the top 5 causes of death for Asian and Pacific Islander in 2014?"
   ]
  },
  {
   "cell_type": "code",
   "execution_count": 2,
   "metadata": {
    "collapsed": true
   },
   "outputs": [],
   "source": [
    "deaths = pd.read_csv(r'C:\\Users\\DJEli112\\Desktop\\CUNY SPS\\Spring 2017\\IS 362\\New_York_City_Leading_Causes_of_Death.csv')"
   ]
  },
  {
   "cell_type": "markdown",
   "metadata": {},
   "source": [
    "After importing the CSV file, I wanted to see the beginnng 5 rows of this table by utilizing .head():"
   ]
  },
  {
   "cell_type": "code",
   "execution_count": 3,
   "metadata": {
    "collapsed": false
   },
   "outputs": [
    {
     "data": {
      "text/html": [
       "<div>\n",
       "<table border=\"1\" class=\"dataframe\">\n",
       "  <thead>\n",
       "    <tr style=\"text-align: right;\">\n",
       "      <th></th>\n",
       "      <th>Year</th>\n",
       "      <th>Leading Cause</th>\n",
       "      <th>Sex</th>\n",
       "      <th>Race Ethnicity</th>\n",
       "      <th>Deaths</th>\n",
       "      <th>Death Rate</th>\n",
       "      <th>Age Adjusted Death Rate</th>\n",
       "    </tr>\n",
       "  </thead>\n",
       "  <tbody>\n",
       "    <tr>\n",
       "      <th>0</th>\n",
       "      <td>2014</td>\n",
       "      <td>Diabetes Mellitus (E10-E14)</td>\n",
       "      <td>F</td>\n",
       "      <td>Other Race/ Ethnicity</td>\n",
       "      <td>11</td>\n",
       "      <td>.</td>\n",
       "      <td>.</td>\n",
       "    </tr>\n",
       "    <tr>\n",
       "      <th>1</th>\n",
       "      <td>2011</td>\n",
       "      <td>Cerebrovascular Disease (Stroke: I60-I69)</td>\n",
       "      <td>M</td>\n",
       "      <td>White Non-Hispanic</td>\n",
       "      <td>290</td>\n",
       "      <td>21.7</td>\n",
       "      <td>18.2</td>\n",
       "    </tr>\n",
       "    <tr>\n",
       "      <th>2</th>\n",
       "      <td>2008</td>\n",
       "      <td>Malignant Neoplasms (Cancer: C00-C97)</td>\n",
       "      <td>M</td>\n",
       "      <td>Not Stated/Unknown</td>\n",
       "      <td>60</td>\n",
       "      <td>.</td>\n",
       "      <td>.</td>\n",
       "    </tr>\n",
       "    <tr>\n",
       "      <th>3</th>\n",
       "      <td>2010</td>\n",
       "      <td>Malignant Neoplasms (Cancer: C00-C97)</td>\n",
       "      <td>F</td>\n",
       "      <td>Hispanic</td>\n",
       "      <td>1045</td>\n",
       "      <td>85.9</td>\n",
       "      <td>98.5</td>\n",
       "    </tr>\n",
       "    <tr>\n",
       "      <th>4</th>\n",
       "      <td>2012</td>\n",
       "      <td>Cerebrovascular Disease (Stroke: I60-I69)</td>\n",
       "      <td>M</td>\n",
       "      <td>Black Non-Hispanic</td>\n",
       "      <td>170</td>\n",
       "      <td>19.9</td>\n",
       "      <td>23.3</td>\n",
       "    </tr>\n",
       "  </tbody>\n",
       "</table>\n",
       "</div>"
      ],
      "text/plain": [
       "   Year                              Leading Cause Sex         Race Ethnicity  \\\n",
       "0  2014                Diabetes Mellitus (E10-E14)   F  Other Race/ Ethnicity   \n",
       "1  2011  Cerebrovascular Disease (Stroke: I60-I69)   M     White Non-Hispanic   \n",
       "2  2008      Malignant Neoplasms (Cancer: C00-C97)   M     Not Stated/Unknown   \n",
       "3  2010      Malignant Neoplasms (Cancer: C00-C97)   F               Hispanic   \n",
       "4  2012  Cerebrovascular Disease (Stroke: I60-I69)   M     Black Non-Hispanic   \n",
       "\n",
       "  Deaths Death Rate Age Adjusted Death Rate  \n",
       "0     11          .                       .  \n",
       "1    290       21.7                    18.2  \n",
       "2     60          .                       .  \n",
       "3   1045       85.9                    98.5  \n",
       "4    170       19.9                    23.3  "
      ]
     },
     "execution_count": 3,
     "metadata": {},
     "output_type": "execute_result"
    }
   ],
   "source": [
    "deaths.head()"
   ]
  },
  {
   "cell_type": "markdown",
   "metadata": {},
   "source": [
    "As you can tell, there are (.) dots or periods that are in place of a null value that is needed. Since there is a dot, I believe it is important to check the data types for each column:"
   ]
  },
  {
   "cell_type": "code",
   "execution_count": 4,
   "metadata": {
    "collapsed": false
   },
   "outputs": [
    {
     "data": {
      "text/plain": [
       "Year                        int64\n",
       "Leading Cause              object\n",
       "Sex                        object\n",
       "Race Ethnicity             object\n",
       "Deaths                     object\n",
       "Death Rate                 object\n",
       "Age Adjusted Death Rate    object\n",
       "dtype: object"
      ]
     },
     "execution_count": 4,
     "metadata": {},
     "output_type": "execute_result"
    }
   ],
   "source": [
    "deaths.dtypes"
   ]
  },
  {
   "cell_type": "markdown",
   "metadata": {},
   "source": [
    "Since each column has an object type for Deaths, Deaths, Rates, and Age Adjusted Death Rate, it is better to replace the dots with null values and then convert the rows for the respective columns into an integer or float through .to_numeric:"
   ]
  },
  {
   "cell_type": "code",
   "execution_count": 5,
   "metadata": {
    "collapsed": true
   },
   "outputs": [],
   "source": [
    "deaths = deaths.replace(to_replace='.', value=np.nan)"
   ]
  },
  {
   "cell_type": "code",
   "execution_count": 6,
   "metadata": {
    "collapsed": false
   },
   "outputs": [
    {
     "data": {
      "text/plain": [
       "Year                         int64\n",
       "Leading Cause               object\n",
       "Sex                         object\n",
       "Race Ethnicity              object\n",
       "Deaths                     float64\n",
       "Death Rate                 float64\n",
       "Age Adjusted Death Rate    float64\n",
       "dtype: object"
      ]
     },
     "execution_count": 6,
     "metadata": {},
     "output_type": "execute_result"
    }
   ],
   "source": [
    "deaths[['Deaths', 'Death Rate', 'Age Adjusted Death Rate']] = deaths[['Deaths', 'Death Rate', \n",
    "                                                              'Age Adjusted Death Rate']].apply(pd.to_numeric)\n",
    "\n",
    "deaths.dtypes"
   ]
  },
  {
   "cell_type": "markdown",
   "metadata": {},
   "source": [
    "#### Which cause of death had most deaths in 2014?"
   ]
  },
  {
   "cell_type": "code",
   "execution_count": 7,
   "metadata": {
    "collapsed": false
   },
   "outputs": [
    {
     "data": {
      "text/html": [
       "<div>\n",
       "<table border=\"1\" class=\"dataframe\">\n",
       "  <thead>\n",
       "    <tr style=\"text-align: right;\">\n",
       "      <th></th>\n",
       "      <th>Year</th>\n",
       "      <th>Leading Cause</th>\n",
       "      <th>Sex</th>\n",
       "      <th>Race Ethnicity</th>\n",
       "      <th>Deaths</th>\n",
       "      <th>Death Rate</th>\n",
       "      <th>Age Adjusted Death Rate</th>\n",
       "    </tr>\n",
       "  </thead>\n",
       "  <tbody>\n",
       "    <tr>\n",
       "      <th>620</th>\n",
       "      <td>2014</td>\n",
       "      <td>Diseases of Heart (I00-I09, I11, I13, I20-I51)</td>\n",
       "      <td>F</td>\n",
       "      <td>White Non-Hispanic</td>\n",
       "      <td>4507.0</td>\n",
       "      <td>318.0</td>\n",
       "      <td>161.0</td>\n",
       "    </tr>\n",
       "  </tbody>\n",
       "</table>\n",
       "</div>"
      ],
      "text/plain": [
       "     Year                                   Leading Cause Sex  \\\n",
       "620  2014  Diseases of Heart (I00-I09, I11, I13, I20-I51)   F   \n",
       "\n",
       "         Race Ethnicity  Deaths  Death Rate  Age Adjusted Death Rate  \n",
       "620  White Non-Hispanic  4507.0       318.0                    161.0  "
      ]
     },
     "execution_count": 7,
     "metadata": {},
     "output_type": "execute_result"
    }
   ],
   "source": [
    "deaths[deaths['Year']==2014].sort_values('Deaths', ascending=False).head(1)"
   ]
  },
  {
   "cell_type": "markdown",
   "metadata": {},
   "source": [
    "After converting the dots to the null values, I successfully determined that heart disease had the most deaths at 4507 in 2014. I did this by sorting for Deaths, where the year is 2014, and the top count of deaths by setting ascending to False and .head(1)."
   ]
  },
  {
   "cell_type": "markdown",
   "metadata": {},
   "source": [
    "#### Which cause of death had the lowest death rate in 2014?"
   ]
  },
  {
   "cell_type": "code",
   "execution_count": 8,
   "metadata": {
    "collapsed": false
   },
   "outputs": [
    {
     "data": {
      "text/html": [
       "<div>\n",
       "<table border=\"1\" class=\"dataframe\">\n",
       "  <thead>\n",
       "    <tr style=\"text-align: right;\">\n",
       "      <th></th>\n",
       "      <th>Year</th>\n",
       "      <th>Leading Cause</th>\n",
       "      <th>Sex</th>\n",
       "      <th>Race Ethnicity</th>\n",
       "      <th>Deaths</th>\n",
       "      <th>Death Rate</th>\n",
       "      <th>Age Adjusted Death Rate</th>\n",
       "    </tr>\n",
       "  </thead>\n",
       "  <tbody>\n",
       "    <tr>\n",
       "      <th>342</th>\n",
       "      <td>2014</td>\n",
       "      <td>Alzheimer's Disease (G30)</td>\n",
       "      <td>F</td>\n",
       "      <td>Asian and Pacific Islander</td>\n",
       "      <td>26.0</td>\n",
       "      <td>4.2</td>\n",
       "      <td>4.7</td>\n",
       "    </tr>\n",
       "  </tbody>\n",
       "</table>\n",
       "</div>"
      ],
      "text/plain": [
       "     Year              Leading Cause Sex              Race Ethnicity  Deaths  \\\n",
       "342  2014  Alzheimer's Disease (G30)   F  Asian and Pacific Islander    26.0   \n",
       "\n",
       "     Death Rate  Age Adjusted Death Rate  \n",
       "342         4.2                      4.7  "
      ]
     },
     "execution_count": 8,
     "metadata": {},
     "output_type": "execute_result"
    }
   ],
   "source": [
    "deaths[deaths['Year']==2014].sort_values('Death Rate').head(1)"
   ]
  },
  {
   "cell_type": "markdown",
   "metadata": {},
   "source": [
    "In this instance, I sorted by Death Rate in which the year is 2014 with the bottom count of death rates by either setting ascending to True or leaving it blank, as well as .head(1). The result shows Alzheimer's Disease at 4.2."
   ]
  },
  {
   "cell_type": "markdown",
   "metadata": {},
   "source": [
    "#### What are the top 5 causes of death for Asian and Pacific Islander in 2014?"
   ]
  },
  {
   "cell_type": "code",
   "execution_count": 9,
   "metadata": {
    "collapsed": false
   },
   "outputs": [
    {
     "data": {
      "text/html": [
       "<div>\n",
       "<table border=\"1\" class=\"dataframe\">\n",
       "  <thead>\n",
       "    <tr style=\"text-align: right;\">\n",
       "      <th></th>\n",
       "      <th>Year</th>\n",
       "      <th>Leading Cause</th>\n",
       "      <th>Sex</th>\n",
       "      <th>Race Ethnicity</th>\n",
       "      <th>Deaths</th>\n",
       "      <th>Death Rate</th>\n",
       "      <th>Age Adjusted Death Rate</th>\n",
       "    </tr>\n",
       "  </thead>\n",
       "  <tbody>\n",
       "    <tr>\n",
       "      <th>210</th>\n",
       "      <td>2014</td>\n",
       "      <td>Malignant Neoplasms (Cancer: C00-C97)</td>\n",
       "      <td>M</td>\n",
       "      <td>Asian and Pacific Islander</td>\n",
       "      <td>657.0</td>\n",
       "      <td>114.5</td>\n",
       "      <td>129.5</td>\n",
       "    </tr>\n",
       "    <tr>\n",
       "      <th>988</th>\n",
       "      <td>2014</td>\n",
       "      <td>Diseases of Heart (I00-I09, I11, I13, I20-I51)</td>\n",
       "      <td>M</td>\n",
       "      <td>Asian and Pacific Islander</td>\n",
       "      <td>554.0</td>\n",
       "      <td>96.5</td>\n",
       "      <td>118.5</td>\n",
       "    </tr>\n",
       "    <tr>\n",
       "      <th>344</th>\n",
       "      <td>2014</td>\n",
       "      <td>Malignant Neoplasms (Cancer: C00-C97)</td>\n",
       "      <td>F</td>\n",
       "      <td>Asian and Pacific Islander</td>\n",
       "      <td>502.0</td>\n",
       "      <td>80.2</td>\n",
       "      <td>80.6</td>\n",
       "    </tr>\n",
       "    <tr>\n",
       "      <th>567</th>\n",
       "      <td>2014</td>\n",
       "      <td>Diseases of Heart (I00-I09, I11, I13, I20-I51)</td>\n",
       "      <td>F</td>\n",
       "      <td>Asian and Pacific Islander</td>\n",
       "      <td>462.0</td>\n",
       "      <td>73.8</td>\n",
       "      <td>81.1</td>\n",
       "    </tr>\n",
       "    <tr>\n",
       "      <th>54</th>\n",
       "      <td>2014</td>\n",
       "      <td>All Other Causes</td>\n",
       "      <td>M</td>\n",
       "      <td>Asian and Pacific Islander</td>\n",
       "      <td>424.0</td>\n",
       "      <td>73.9</td>\n",
       "      <td>90.4</td>\n",
       "    </tr>\n",
       "  </tbody>\n",
       "</table>\n",
       "</div>"
      ],
      "text/plain": [
       "     Year                                   Leading Cause Sex  \\\n",
       "210  2014           Malignant Neoplasms (Cancer: C00-C97)   M   \n",
       "988  2014  Diseases of Heart (I00-I09, I11, I13, I20-I51)   M   \n",
       "344  2014           Malignant Neoplasms (Cancer: C00-C97)   F   \n",
       "567  2014  Diseases of Heart (I00-I09, I11, I13, I20-I51)   F   \n",
       "54   2014                                All Other Causes   M   \n",
       "\n",
       "                 Race Ethnicity  Deaths  Death Rate  Age Adjusted Death Rate  \n",
       "210  Asian and Pacific Islander   657.0       114.5                    129.5  \n",
       "988  Asian and Pacific Islander   554.0        96.5                    118.5  \n",
       "344  Asian and Pacific Islander   502.0        80.2                     80.6  \n",
       "567  Asian and Pacific Islander   462.0        73.8                     81.1  \n",
       "54   Asian and Pacific Islander   424.0        73.9                     90.4  "
      ]
     },
     "execution_count": 9,
     "metadata": {},
     "output_type": "execute_result"
    }
   ],
   "source": [
    "deaths[(deaths['Year']==2014) & (deaths['Race Ethnicity']=='Asian and Pacific Islander')].sort_values('Deaths', \n",
    "                                                                                          ascending=False).head(5)"
   ]
  },
  {
   "cell_type": "markdown",
   "metadata": {},
   "source": [
    "Since there are multiple parts to this question, I needed to decide how to combine how to sort by deaths and define a specific ethnicity at a certain year for the top 5 causes of death. I sorted by Deaths in which the year is 2014 and the Race Ethnicity is Asian and Pacific Islander with the top 5 count of Deaths by setting ascending at False and .head(5). As a result, Malignant Neoplasms, Diseases of Heart, Malignant Neoplasms, Diseases of Heart and All Other Causes have respectives deaths of 657, 554, 502, 462, and 424."
   ]
  },
  {
   "cell_type": "markdown",
   "metadata": {},
   "source": [
    "##### Dataset # 2:"
   ]
  },
  {
   "cell_type": "markdown",
   "metadata": {},
   "source": [
    "California Cities\n",
    "\n",
    "- Which cities have the greatest amount of open water?\n",
    "- Which cities have the highest elevation?\n",
    "- Which cities have the greatest ratio of land area to water?"
   ]
  },
  {
   "cell_type": "code",
   "execution_count": 10,
   "metadata": {
    "collapsed": true
   },
   "outputs": [],
   "source": [
    "cities = pd.read_csv(r'C:\\Users\\DJEli112\\Desktop\\CUNY SPS\\Spring 2017\\IS 362\\california_cities.csv')"
   ]
  },
  {
   "cell_type": "markdown",
   "metadata": {},
   "source": [
    "As with the previous data set, I will check the beginning 5 rows of the California Cities data set by utilizing .head():"
   ]
  },
  {
   "cell_type": "code",
   "execution_count": 11,
   "metadata": {
    "collapsed": false
   },
   "outputs": [
    {
     "data": {
      "text/html": [
       "<div>\n",
       "<table border=\"1\" class=\"dataframe\">\n",
       "  <thead>\n",
       "    <tr style=\"text-align: right;\">\n",
       "      <th></th>\n",
       "      <th>Unnamed: 0</th>\n",
       "      <th>city</th>\n",
       "      <th>latd</th>\n",
       "      <th>longd</th>\n",
       "      <th>elevation_m</th>\n",
       "      <th>elevation_ft</th>\n",
       "      <th>population_total</th>\n",
       "      <th>area_total_sq_mi</th>\n",
       "      <th>area_land_sq_mi</th>\n",
       "      <th>area_water_sq_mi</th>\n",
       "      <th>area_total_km2</th>\n",
       "      <th>area_land_km2</th>\n",
       "      <th>area_water_km2</th>\n",
       "      <th>area_water_percent</th>\n",
       "    </tr>\n",
       "  </thead>\n",
       "  <tbody>\n",
       "    <tr>\n",
       "      <th>0</th>\n",
       "      <td>0</td>\n",
       "      <td>Adelanto</td>\n",
       "      <td>34.576111</td>\n",
       "      <td>-117.432778</td>\n",
       "      <td>875.0</td>\n",
       "      <td>2871.0</td>\n",
       "      <td>31765</td>\n",
       "      <td>56.027</td>\n",
       "      <td>56.009</td>\n",
       "      <td>0.018</td>\n",
       "      <td>145.107</td>\n",
       "      <td>145.062</td>\n",
       "      <td>0.046</td>\n",
       "      <td>0.03</td>\n",
       "    </tr>\n",
       "    <tr>\n",
       "      <th>1</th>\n",
       "      <td>1</td>\n",
       "      <td>AgouraHills</td>\n",
       "      <td>34.153333</td>\n",
       "      <td>-118.761667</td>\n",
       "      <td>281.0</td>\n",
       "      <td>922.0</td>\n",
       "      <td>20330</td>\n",
       "      <td>7.822</td>\n",
       "      <td>7.793</td>\n",
       "      <td>0.029</td>\n",
       "      <td>20.260</td>\n",
       "      <td>20.184</td>\n",
       "      <td>0.076</td>\n",
       "      <td>0.37</td>\n",
       "    </tr>\n",
       "    <tr>\n",
       "      <th>2</th>\n",
       "      <td>2</td>\n",
       "      <td>Alameda</td>\n",
       "      <td>37.756111</td>\n",
       "      <td>-122.274444</td>\n",
       "      <td>NaN</td>\n",
       "      <td>33.0</td>\n",
       "      <td>75467</td>\n",
       "      <td>22.960</td>\n",
       "      <td>10.611</td>\n",
       "      <td>12.349</td>\n",
       "      <td>59.465</td>\n",
       "      <td>27.482</td>\n",
       "      <td>31.983</td>\n",
       "      <td>53.79</td>\n",
       "    </tr>\n",
       "    <tr>\n",
       "      <th>3</th>\n",
       "      <td>3</td>\n",
       "      <td>Albany</td>\n",
       "      <td>37.886944</td>\n",
       "      <td>-122.297778</td>\n",
       "      <td>NaN</td>\n",
       "      <td>43.0</td>\n",
       "      <td>18969</td>\n",
       "      <td>5.465</td>\n",
       "      <td>1.788</td>\n",
       "      <td>3.677</td>\n",
       "      <td>14.155</td>\n",
       "      <td>4.632</td>\n",
       "      <td>9.524</td>\n",
       "      <td>67.28</td>\n",
       "    </tr>\n",
       "    <tr>\n",
       "      <th>4</th>\n",
       "      <td>4</td>\n",
       "      <td>Alhambra</td>\n",
       "      <td>34.081944</td>\n",
       "      <td>-118.135000</td>\n",
       "      <td>150.0</td>\n",
       "      <td>492.0</td>\n",
       "      <td>83089</td>\n",
       "      <td>7.632</td>\n",
       "      <td>7.631</td>\n",
       "      <td>0.001</td>\n",
       "      <td>19.766</td>\n",
       "      <td>19.763</td>\n",
       "      <td>0.003</td>\n",
       "      <td>0.01</td>\n",
       "    </tr>\n",
       "  </tbody>\n",
       "</table>\n",
       "</div>"
      ],
      "text/plain": [
       "   Unnamed: 0         city       latd       longd  elevation_m  elevation_ft  \\\n",
       "0           0     Adelanto  34.576111 -117.432778        875.0        2871.0   \n",
       "1           1  AgouraHills  34.153333 -118.761667        281.0         922.0   \n",
       "2           2      Alameda  37.756111 -122.274444          NaN          33.0   \n",
       "3           3       Albany  37.886944 -122.297778          NaN          43.0   \n",
       "4           4     Alhambra  34.081944 -118.135000        150.0         492.0   \n",
       "\n",
       "   population_total  area_total_sq_mi  area_land_sq_mi  area_water_sq_mi  \\\n",
       "0             31765            56.027           56.009             0.018   \n",
       "1             20330             7.822            7.793             0.029   \n",
       "2             75467            22.960           10.611            12.349   \n",
       "3             18969             5.465            1.788             3.677   \n",
       "4             83089             7.632            7.631             0.001   \n",
       "\n",
       "   area_total_km2  area_land_km2  area_water_km2  area_water_percent  \n",
       "0         145.107        145.062           0.046                0.03  \n",
       "1          20.260         20.184           0.076                0.37  \n",
       "2          59.465         27.482          31.983               53.79  \n",
       "3          14.155          4.632           9.524               67.28  \n",
       "4          19.766         19.763           0.003                0.01  "
      ]
     },
     "execution_count": 11,
     "metadata": {},
     "output_type": "execute_result"
    }
   ],
   "source": [
    "cities.head()"
   ]
  },
  {
   "cell_type": "markdown",
   "metadata": {},
   "source": [
    "As you can tell, there is an unnammed column with rows that are not pertinent to the dataset itself. Another observation is AgouraHills not seperated by a space. Unlike the previous table, the null values that are inserted in the table and does not need to be converted. In order to tidy up the unnammed column, rename Unnamed: 0 to unnamed by renaming it and dropping the column. To seperate a space in between AgouraHills and other cities, a function will defined to seperate a space for all cities in California for this data set."
   ]
  },
  {
   "cell_type": "code",
   "execution_count": 12,
   "metadata": {
    "collapsed": false
   },
   "outputs": [
    {
     "data": {
      "text/html": [
       "<div>\n",
       "<table border=\"1\" class=\"dataframe\">\n",
       "  <thead>\n",
       "    <tr style=\"text-align: right;\">\n",
       "      <th></th>\n",
       "      <th>unnamed</th>\n",
       "      <th>city</th>\n",
       "      <th>latd</th>\n",
       "      <th>longd</th>\n",
       "      <th>elevation_m</th>\n",
       "      <th>elevation_ft</th>\n",
       "      <th>population_total</th>\n",
       "      <th>area_total_sq_mi</th>\n",
       "      <th>area_land_sq_mi</th>\n",
       "      <th>area_water_sq_mi</th>\n",
       "      <th>area_total_km2</th>\n",
       "      <th>area_land_km2</th>\n",
       "      <th>area_water_km2</th>\n",
       "      <th>area_water_percent</th>\n",
       "    </tr>\n",
       "  </thead>\n",
       "  <tbody>\n",
       "    <tr>\n",
       "      <th>0</th>\n",
       "      <td>0</td>\n",
       "      <td>Adelanto</td>\n",
       "      <td>34.576111</td>\n",
       "      <td>-117.432778</td>\n",
       "      <td>875.0</td>\n",
       "      <td>2871.0</td>\n",
       "      <td>31765</td>\n",
       "      <td>56.027</td>\n",
       "      <td>56.009</td>\n",
       "      <td>0.018</td>\n",
       "      <td>145.107</td>\n",
       "      <td>145.062</td>\n",
       "      <td>0.046</td>\n",
       "      <td>0.03</td>\n",
       "    </tr>\n",
       "    <tr>\n",
       "      <th>1</th>\n",
       "      <td>1</td>\n",
       "      <td>AgouraHills</td>\n",
       "      <td>34.153333</td>\n",
       "      <td>-118.761667</td>\n",
       "      <td>281.0</td>\n",
       "      <td>922.0</td>\n",
       "      <td>20330</td>\n",
       "      <td>7.822</td>\n",
       "      <td>7.793</td>\n",
       "      <td>0.029</td>\n",
       "      <td>20.260</td>\n",
       "      <td>20.184</td>\n",
       "      <td>0.076</td>\n",
       "      <td>0.37</td>\n",
       "    </tr>\n",
       "    <tr>\n",
       "      <th>2</th>\n",
       "      <td>2</td>\n",
       "      <td>Alameda</td>\n",
       "      <td>37.756111</td>\n",
       "      <td>-122.274444</td>\n",
       "      <td>NaN</td>\n",
       "      <td>33.0</td>\n",
       "      <td>75467</td>\n",
       "      <td>22.960</td>\n",
       "      <td>10.611</td>\n",
       "      <td>12.349</td>\n",
       "      <td>59.465</td>\n",
       "      <td>27.482</td>\n",
       "      <td>31.983</td>\n",
       "      <td>53.79</td>\n",
       "    </tr>\n",
       "    <tr>\n",
       "      <th>3</th>\n",
       "      <td>3</td>\n",
       "      <td>Albany</td>\n",
       "      <td>37.886944</td>\n",
       "      <td>-122.297778</td>\n",
       "      <td>NaN</td>\n",
       "      <td>43.0</td>\n",
       "      <td>18969</td>\n",
       "      <td>5.465</td>\n",
       "      <td>1.788</td>\n",
       "      <td>3.677</td>\n",
       "      <td>14.155</td>\n",
       "      <td>4.632</td>\n",
       "      <td>9.524</td>\n",
       "      <td>67.28</td>\n",
       "    </tr>\n",
       "    <tr>\n",
       "      <th>4</th>\n",
       "      <td>4</td>\n",
       "      <td>Alhambra</td>\n",
       "      <td>34.081944</td>\n",
       "      <td>-118.135000</td>\n",
       "      <td>150.0</td>\n",
       "      <td>492.0</td>\n",
       "      <td>83089</td>\n",
       "      <td>7.632</td>\n",
       "      <td>7.631</td>\n",
       "      <td>0.001</td>\n",
       "      <td>19.766</td>\n",
       "      <td>19.763</td>\n",
       "      <td>0.003</td>\n",
       "      <td>0.01</td>\n",
       "    </tr>\n",
       "  </tbody>\n",
       "</table>\n",
       "</div>"
      ],
      "text/plain": [
       "   unnamed         city       latd       longd  elevation_m  elevation_ft  \\\n",
       "0        0     Adelanto  34.576111 -117.432778        875.0        2871.0   \n",
       "1        1  AgouraHills  34.153333 -118.761667        281.0         922.0   \n",
       "2        2      Alameda  37.756111 -122.274444          NaN          33.0   \n",
       "3        3       Albany  37.886944 -122.297778          NaN          43.0   \n",
       "4        4     Alhambra  34.081944 -118.135000        150.0         492.0   \n",
       "\n",
       "   population_total  area_total_sq_mi  area_land_sq_mi  area_water_sq_mi  \\\n",
       "0             31765            56.027           56.009             0.018   \n",
       "1             20330             7.822            7.793             0.029   \n",
       "2             75467            22.960           10.611            12.349   \n",
       "3             18969             5.465            1.788             3.677   \n",
       "4             83089             7.632            7.631             0.001   \n",
       "\n",
       "   area_total_km2  area_land_km2  area_water_km2  area_water_percent  \n",
       "0         145.107        145.062           0.046                0.03  \n",
       "1          20.260         20.184           0.076                0.37  \n",
       "2          59.465         27.482          31.983               53.79  \n",
       "3          14.155          4.632           9.524               67.28  \n",
       "4          19.766         19.763           0.003                0.01  "
      ]
     },
     "execution_count": 12,
     "metadata": {},
     "output_type": "execute_result"
    }
   ],
   "source": [
    "cities_cols =['unnamed', 'city', 'latd', 'longd', 'elevation_m', 'elevation_ft',\n",
    "       'population_total', 'area_total_sq_mi', 'area_land_sq_mi',\n",
    "       'area_water_sq_mi', 'area_total_km2', 'area_land_km2', 'area_water_km2',\n",
    "       'area_water_percent']\n",
    "cities.columns = cities_cols\n",
    "cities.head()"
   ]
  },
  {
   "cell_type": "markdown",
   "metadata": {},
   "source": [
    "As previously stated, the \"Unnamed: 0\" column has been successfully renamed to \"unnamed\". In order to drop this column, utilize .drop() with specific parameters and show the first 5 rows with .head():"
   ]
  },
  {
   "cell_type": "code",
   "execution_count": 13,
   "metadata": {
    "collapsed": false
   },
   "outputs": [
    {
     "data": {
      "text/html": [
       "<div>\n",
       "<table border=\"1\" class=\"dataframe\">\n",
       "  <thead>\n",
       "    <tr style=\"text-align: right;\">\n",
       "      <th></th>\n",
       "      <th>city</th>\n",
       "      <th>latd</th>\n",
       "      <th>longd</th>\n",
       "      <th>elevation_m</th>\n",
       "      <th>elevation_ft</th>\n",
       "      <th>population_total</th>\n",
       "      <th>area_total_sq_mi</th>\n",
       "      <th>area_land_sq_mi</th>\n",
       "      <th>area_water_sq_mi</th>\n",
       "      <th>area_total_km2</th>\n",
       "      <th>area_land_km2</th>\n",
       "      <th>area_water_km2</th>\n",
       "      <th>area_water_percent</th>\n",
       "    </tr>\n",
       "  </thead>\n",
       "  <tbody>\n",
       "    <tr>\n",
       "      <th>0</th>\n",
       "      <td>Adelanto</td>\n",
       "      <td>34.576111</td>\n",
       "      <td>-117.432778</td>\n",
       "      <td>875.0</td>\n",
       "      <td>2871.0</td>\n",
       "      <td>31765</td>\n",
       "      <td>56.027</td>\n",
       "      <td>56.009</td>\n",
       "      <td>0.018</td>\n",
       "      <td>145.107</td>\n",
       "      <td>145.062</td>\n",
       "      <td>0.046</td>\n",
       "      <td>0.03</td>\n",
       "    </tr>\n",
       "    <tr>\n",
       "      <th>1</th>\n",
       "      <td>AgouraHills</td>\n",
       "      <td>34.153333</td>\n",
       "      <td>-118.761667</td>\n",
       "      <td>281.0</td>\n",
       "      <td>922.0</td>\n",
       "      <td>20330</td>\n",
       "      <td>7.822</td>\n",
       "      <td>7.793</td>\n",
       "      <td>0.029</td>\n",
       "      <td>20.260</td>\n",
       "      <td>20.184</td>\n",
       "      <td>0.076</td>\n",
       "      <td>0.37</td>\n",
       "    </tr>\n",
       "    <tr>\n",
       "      <th>2</th>\n",
       "      <td>Alameda</td>\n",
       "      <td>37.756111</td>\n",
       "      <td>-122.274444</td>\n",
       "      <td>NaN</td>\n",
       "      <td>33.0</td>\n",
       "      <td>75467</td>\n",
       "      <td>22.960</td>\n",
       "      <td>10.611</td>\n",
       "      <td>12.349</td>\n",
       "      <td>59.465</td>\n",
       "      <td>27.482</td>\n",
       "      <td>31.983</td>\n",
       "      <td>53.79</td>\n",
       "    </tr>\n",
       "    <tr>\n",
       "      <th>3</th>\n",
       "      <td>Albany</td>\n",
       "      <td>37.886944</td>\n",
       "      <td>-122.297778</td>\n",
       "      <td>NaN</td>\n",
       "      <td>43.0</td>\n",
       "      <td>18969</td>\n",
       "      <td>5.465</td>\n",
       "      <td>1.788</td>\n",
       "      <td>3.677</td>\n",
       "      <td>14.155</td>\n",
       "      <td>4.632</td>\n",
       "      <td>9.524</td>\n",
       "      <td>67.28</td>\n",
       "    </tr>\n",
       "    <tr>\n",
       "      <th>4</th>\n",
       "      <td>Alhambra</td>\n",
       "      <td>34.081944</td>\n",
       "      <td>-118.135000</td>\n",
       "      <td>150.0</td>\n",
       "      <td>492.0</td>\n",
       "      <td>83089</td>\n",
       "      <td>7.632</td>\n",
       "      <td>7.631</td>\n",
       "      <td>0.001</td>\n",
       "      <td>19.766</td>\n",
       "      <td>19.763</td>\n",
       "      <td>0.003</td>\n",
       "      <td>0.01</td>\n",
       "    </tr>\n",
       "  </tbody>\n",
       "</table>\n",
       "</div>"
      ],
      "text/plain": [
       "          city       latd       longd  elevation_m  elevation_ft  \\\n",
       "0     Adelanto  34.576111 -117.432778        875.0        2871.0   \n",
       "1  AgouraHills  34.153333 -118.761667        281.0         922.0   \n",
       "2      Alameda  37.756111 -122.274444          NaN          33.0   \n",
       "3       Albany  37.886944 -122.297778          NaN          43.0   \n",
       "4     Alhambra  34.081944 -118.135000        150.0         492.0   \n",
       "\n",
       "   population_total  area_total_sq_mi  area_land_sq_mi  area_water_sq_mi  \\\n",
       "0             31765            56.027           56.009             0.018   \n",
       "1             20330             7.822            7.793             0.029   \n",
       "2             75467            22.960           10.611            12.349   \n",
       "3             18969             5.465            1.788             3.677   \n",
       "4             83089             7.632            7.631             0.001   \n",
       "\n",
       "   area_total_km2  area_land_km2  area_water_km2  area_water_percent  \n",
       "0         145.107        145.062           0.046                0.03  \n",
       "1          20.260         20.184           0.076                0.37  \n",
       "2          59.465         27.482          31.983               53.79  \n",
       "3          14.155          4.632           9.524               67.28  \n",
       "4          19.766         19.763           0.003                0.01  "
      ]
     },
     "execution_count": 13,
     "metadata": {},
     "output_type": "execute_result"
    }
   ],
   "source": [
    "cities.drop('unnamed', axis=1, inplace=True)\n",
    "cities.head()"
   ]
  },
  {
   "cell_type": "markdown",
   "metadata": {},
   "source": [
    "As shown in the table, the \"unnamed\" column was dropped and looks more neater than before."
   ]
  },
  {
   "cell_type": "code",
   "execution_count": 14,
   "metadata": {
    "collapsed": false
   },
   "outputs": [
    {
     "data": {
      "text/plain": [
       "0        Adelanto\n",
       "1    Agoura Hills\n",
       "2         Alameda\n",
       "3          Albany\n",
       "4        Alhambra\n",
       "Name: city, dtype: object"
      ]
     },
     "execution_count": 14,
     "metadata": {},
     "output_type": "execute_result"
    }
   ],
   "source": [
    "def city_spacing(city):\n",
    "    spacing = re.findall('[A-Z][^A-Z]*', city)\n",
    "    return ' '.join(spacing)\n",
    "\n",
    "cities['city'] = cities['city'].apply(city_spacing)\n",
    "\n",
    "cities['city'].head(5)"
   ]
  },
  {
   "cell_type": "markdown",
   "metadata": {},
   "source": [
    "After importing re or regular expression, it is easier to work with strings and manipulate them to your liking, In the case, I wanted to add a space between two or more words for a city's name. Although this was applied to every city, the first 5 were shown, and AgouraHills is now \"Agoura Hills.\""
   ]
  },
  {
   "cell_type": "markdown",
   "metadata": {},
   "source": [
    "#### Which cities have the greatest amount of open water?"
   ]
  },
  {
   "cell_type": "code",
   "execution_count": 15,
   "metadata": {
    "collapsed": false
   },
   "outputs": [
    {
     "data": {
      "text/html": [
       "<div>\n",
       "<table border=\"1\" class=\"dataframe\">\n",
       "  <thead>\n",
       "    <tr style=\"text-align: right;\">\n",
       "      <th></th>\n",
       "      <th>city</th>\n",
       "      <th>area_water_sq_mi</th>\n",
       "    </tr>\n",
       "  </thead>\n",
       "  <tbody>\n",
       "    <tr>\n",
       "      <th>370</th>\n",
       "      <td>San Francisco</td>\n",
       "      <td>185.020</td>\n",
       "    </tr>\n",
       "    <tr>\n",
       "      <th>367</th>\n",
       "      <td>San Diego</td>\n",
       "      <td>47.210</td>\n",
       "    </tr>\n",
       "    <tr>\n",
       "      <th>239</th>\n",
       "      <td>Los Angeles</td>\n",
       "      <td>34.000</td>\n",
       "    </tr>\n",
       "    <tr>\n",
       "      <th>285</th>\n",
       "      <td>Newport Beach</td>\n",
       "      <td>29.173</td>\n",
       "    </tr>\n",
       "    <tr>\n",
       "      <th>93</th>\n",
       "      <td>Coronado</td>\n",
       "      <td>24.735</td>\n",
       "    </tr>\n",
       "  </tbody>\n",
       "</table>\n",
       "</div>"
      ],
      "text/plain": [
       "              city  area_water_sq_mi\n",
       "370  San Francisco           185.020\n",
       "367      San Diego            47.210\n",
       "239    Los Angeles            34.000\n",
       "285  Newport Beach            29.173\n",
       "93        Coronado            24.735"
      ]
     },
     "execution_count": 15,
     "metadata": {},
     "output_type": "execute_result"
    }
   ],
   "source": [
    "cities[['city', 'area_water_sq_mi']].sort_values('area_water_sq_mi', ascending=False).head(5)"
   ]
  },
  {
   "cell_type": "markdown",
   "metadata": {},
   "source": [
    "Since the question does not specify the number of cities, I will do the top 5 cities for each question. This shows San Francisco, San Diego, Los Angeles, Newport Beach, and Coronado as the cities with largest amount of open water that were sorted by area_water_sq_mi and set ascending to False."
   ]
  },
  {
   "cell_type": "markdown",
   "metadata": {},
   "source": [
    "#### Which cities have the highest elevation?"
   ]
  },
  {
   "cell_type": "code",
   "execution_count": 16,
   "metadata": {
    "collapsed": false
   },
   "outputs": [
    {
     "data": {
      "text/html": [
       "<div>\n",
       "<table border=\"1\" class=\"dataframe\">\n",
       "  <thead>\n",
       "    <tr style=\"text-align: right;\">\n",
       "      <th></th>\n",
       "      <th>city</th>\n",
       "      <th>elevation_ft</th>\n",
       "    </tr>\n",
       "  </thead>\n",
       "  <tbody>\n",
       "    <tr>\n",
       "      <th>246</th>\n",
       "      <td>Mammoth Lakes</td>\n",
       "      <td>7880.0</td>\n",
       "    </tr>\n",
       "    <tr>\n",
       "      <th>39</th>\n",
       "      <td>Big Bear Lake</td>\n",
       "      <td>6752.0</td>\n",
       "    </tr>\n",
       "    <tr>\n",
       "      <th>416</th>\n",
       "      <td>South Lake Tahoe</td>\n",
       "      <td>6237.0</td>\n",
       "    </tr>\n",
       "    <tr>\n",
       "      <th>436</th>\n",
       "      <td>Truckee</td>\n",
       "      <td>5817.0</td>\n",
       "    </tr>\n",
       "    <tr>\n",
       "      <th>242</th>\n",
       "      <td>Loyalton</td>\n",
       "      <td>4951.0</td>\n",
       "    </tr>\n",
       "  </tbody>\n",
       "</table>\n",
       "</div>"
      ],
      "text/plain": [
       "                 city  elevation_ft\n",
       "246     Mammoth Lakes        7880.0\n",
       "39      Big Bear Lake        6752.0\n",
       "416  South Lake Tahoe        6237.0\n",
       "436           Truckee        5817.0\n",
       "242          Loyalton        4951.0"
      ]
     },
     "execution_count": 16,
     "metadata": {},
     "output_type": "execute_result"
    }
   ],
   "source": [
    "cities[['city', 'elevation_ft']].sort_values('elevation_ft', ascending=False).head(5)"
   ]
  },
  {
   "cell_type": "markdown",
   "metadata": {},
   "source": [
    "In this instance, I sorted by elevation_ft and set ascending to False with the top 5 values shown for each respective city: Mammoth Lakes, Big Bear Lake, South Lake Tahoe, Truckee, and Loyalton."
   ]
  },
  {
   "cell_type": "markdown",
   "metadata": {},
   "source": [
    "#### Which cities have the greatest ratio of land area to water?"
   ]
  },
  {
   "cell_type": "code",
   "execution_count": 17,
   "metadata": {
    "collapsed": false
   },
   "outputs": [
    {
     "data": {
      "text/html": [
       "<div>\n",
       "<table border=\"1\" class=\"dataframe\">\n",
       "  <thead>\n",
       "    <tr style=\"text-align: right;\">\n",
       "      <th></th>\n",
       "      <th>city</th>\n",
       "      <th>area_water_percent</th>\n",
       "    </tr>\n",
       "  </thead>\n",
       "  <tbody>\n",
       "    <tr>\n",
       "      <th>48</th>\n",
       "      <td>Brisbane</td>\n",
       "      <td>84.58</td>\n",
       "    </tr>\n",
       "    <tr>\n",
       "      <th>146</th>\n",
       "      <td>Foster City</td>\n",
       "      <td>81.07</td>\n",
       "    </tr>\n",
       "    <tr>\n",
       "      <th>366</th>\n",
       "      <td>Sand City</td>\n",
       "      <td>80.77</td>\n",
       "    </tr>\n",
       "    <tr>\n",
       "      <th>370</th>\n",
       "      <td>San Francisco</td>\n",
       "      <td>80.00</td>\n",
       "    </tr>\n",
       "    <tr>\n",
       "      <th>35</th>\n",
       "      <td>Belvedere</td>\n",
       "      <td>78.42</td>\n",
       "    </tr>\n",
       "  </tbody>\n",
       "</table>\n",
       "</div>"
      ],
      "text/plain": [
       "              city  area_water_percent\n",
       "48        Brisbane               84.58\n",
       "146    Foster City               81.07\n",
       "366      Sand City               80.77\n",
       "370  San Francisco               80.00\n",
       "35       Belvedere               78.42"
      ]
     },
     "execution_count": 17,
     "metadata": {},
     "output_type": "execute_result"
    }
   ],
   "source": [
    "cities[['city', 'area_water_percent']].sort_values('area_water_percent', ascending=False).head(5)"
   ]
  },
  {
   "cell_type": "markdown",
   "metadata": {},
   "source": [
    "For this question, I sorted by area_water_percent and set acending to False with the top 5 values shown for each respective city: Brisbane, Foster City, Sand City, San Francisco, and Belvedere."
   ]
  },
  {
   "cell_type": "markdown",
   "metadata": {},
   "source": [
    "##### Dataset 3:"
   ]
  },
  {
   "cell_type": "markdown",
   "metadata": {},
   "source": [
    "Planes\n",
    "\n",
    "- Which plane manufacturer has the most seats?"
   ]
  },
  {
   "cell_type": "code",
   "execution_count": 18,
   "metadata": {
    "collapsed": true
   },
   "outputs": [],
   "source": [
    "planes = pd.read_csv(r'C:\\Users\\DJEli112\\Desktop\\CUNY SPS\\Spring 2017\\IS 362\\planes.csv')"
   ]
  },
  {
   "cell_type": "markdown",
   "metadata": {},
   "source": [
    "As with every dataset thus far, I displayed the top 5 rows by utilizing .head():"
   ]
  },
  {
   "cell_type": "code",
   "execution_count": 19,
   "metadata": {
    "collapsed": false
   },
   "outputs": [
    {
     "data": {
      "text/html": [
       "<div>\n",
       "<table border=\"1\" class=\"dataframe\">\n",
       "  <thead>\n",
       "    <tr style=\"text-align: right;\">\n",
       "      <th></th>\n",
       "      <th>tailnum</th>\n",
       "      <th>year</th>\n",
       "      <th>type</th>\n",
       "      <th>manufacturer</th>\n",
       "      <th>model</th>\n",
       "      <th>engines</th>\n",
       "      <th>seats</th>\n",
       "      <th>speed</th>\n",
       "      <th>engine</th>\n",
       "    </tr>\n",
       "  </thead>\n",
       "  <tbody>\n",
       "    <tr>\n",
       "      <th>0</th>\n",
       "      <td>N10156</td>\n",
       "      <td>2004.0</td>\n",
       "      <td>Fixed wing multi engine</td>\n",
       "      <td>EMBRAER</td>\n",
       "      <td>EMB-145XR</td>\n",
       "      <td>2</td>\n",
       "      <td>55</td>\n",
       "      <td>NaN</td>\n",
       "      <td>Turbo-fan</td>\n",
       "    </tr>\n",
       "    <tr>\n",
       "      <th>1</th>\n",
       "      <td>N102UW</td>\n",
       "      <td>1998.0</td>\n",
       "      <td>Fixed wing multi engine</td>\n",
       "      <td>AIRBUS INDUSTRIE</td>\n",
       "      <td>A320-214</td>\n",
       "      <td>2</td>\n",
       "      <td>182</td>\n",
       "      <td>NaN</td>\n",
       "      <td>Turbo-fan</td>\n",
       "    </tr>\n",
       "    <tr>\n",
       "      <th>2</th>\n",
       "      <td>N103US</td>\n",
       "      <td>1999.0</td>\n",
       "      <td>Fixed wing multi engine</td>\n",
       "      <td>AIRBUS INDUSTRIE</td>\n",
       "      <td>A320-214</td>\n",
       "      <td>2</td>\n",
       "      <td>182</td>\n",
       "      <td>NaN</td>\n",
       "      <td>Turbo-fan</td>\n",
       "    </tr>\n",
       "    <tr>\n",
       "      <th>3</th>\n",
       "      <td>N104UW</td>\n",
       "      <td>1999.0</td>\n",
       "      <td>Fixed wing multi engine</td>\n",
       "      <td>AIRBUS INDUSTRIE</td>\n",
       "      <td>A320-214</td>\n",
       "      <td>2</td>\n",
       "      <td>182</td>\n",
       "      <td>NaN</td>\n",
       "      <td>Turbo-fan</td>\n",
       "    </tr>\n",
       "    <tr>\n",
       "      <th>4</th>\n",
       "      <td>N10575</td>\n",
       "      <td>2002.0</td>\n",
       "      <td>Fixed wing multi engine</td>\n",
       "      <td>EMBRAER</td>\n",
       "      <td>EMB-145LR</td>\n",
       "      <td>2</td>\n",
       "      <td>55</td>\n",
       "      <td>NaN</td>\n",
       "      <td>Turbo-fan</td>\n",
       "    </tr>\n",
       "  </tbody>\n",
       "</table>\n",
       "</div>"
      ],
      "text/plain": [
       "  tailnum    year                     type      manufacturer      model  \\\n",
       "0  N10156  2004.0  Fixed wing multi engine           EMBRAER  EMB-145XR   \n",
       "1  N102UW  1998.0  Fixed wing multi engine  AIRBUS INDUSTRIE   A320-214   \n",
       "2  N103US  1999.0  Fixed wing multi engine  AIRBUS INDUSTRIE   A320-214   \n",
       "3  N104UW  1999.0  Fixed wing multi engine  AIRBUS INDUSTRIE   A320-214   \n",
       "4  N10575  2002.0  Fixed wing multi engine           EMBRAER  EMB-145LR   \n",
       "\n",
       "   engines  seats  speed     engine  \n",
       "0        2     55    NaN  Turbo-fan  \n",
       "1        2    182    NaN  Turbo-fan  \n",
       "2        2    182    NaN  Turbo-fan  \n",
       "3        2    182    NaN  Turbo-fan  \n",
       "4        2     55    NaN  Turbo-fan  "
      ]
     },
     "execution_count": 19,
     "metadata": {},
     "output_type": "execute_result"
    }
   ],
   "source": [
    "planes.head()"
   ]
  },
  {
   "cell_type": "markdown",
   "metadata": {},
   "source": [
    "Since the discussion item said to find the speed at which each plane moves, I researched the CSV and realized none of the planes had a speed and were associated with a null value. Instead, I will tidy the dataset by looking at the number of seats for each manufacturer. As shown above, the year has a float value with a decimal float that should be removed. This will be accomplished by applying a split of the decimal float and ultimately removing it for all the year values in the data set:"
   ]
  },
  {
   "cell_type": "code",
   "execution_count": 20,
   "metadata": {
    "collapsed": false
   },
   "outputs": [
    {
     "data": {
      "text/plain": [
       "0    2004\n",
       "1    1998\n",
       "2    1999\n",
       "3    1999\n",
       "4    2002\n",
       "Name: year, dtype: object"
      ]
     },
     "execution_count": 20,
     "metadata": {},
     "output_type": "execute_result"
    }
   ],
   "source": [
    "planes['year'] = planes['year'].astype(str).apply(lambda x: x.split('.')[0])\n",
    "\n",
    "planes['year'] = pd.to_numeric(planes['year'], errors='ignore')\n",
    "\n",
    "planes['year'].head(5)"
   ]
  },
  {
   "cell_type": "markdown",
   "metadata": {},
   "source": [
    "Although it shows only the top five values, all of the year values have the decimal floats removed. Since the speeds for each planes are mostly null values and there are a lot of values to calculate, we will take a look at the seats grouped by manufacturer:"
   ]
  },
  {
   "cell_type": "code",
   "execution_count": 21,
   "metadata": {
    "collapsed": false
   },
   "outputs": [
    {
     "data": {
      "text/plain": [
       "manufacturer\n",
       "AGUSTA SPA                         8\n",
       "AIRBUS                           379\n",
       "AIRBUS INDUSTRIE                 379\n",
       "AMERICAN AIRCRAFT INC              2\n",
       "AVIAT AIRCRAFT INC                 2\n",
       "AVIONS MARCEL DASSAULT            12\n",
       "BARKER JACK L                      2\n",
       "BEECH                             10\n",
       "BELL                              11\n",
       "BOEING                           450\n",
       "BOMBARDIER INC                    95\n",
       "CANADAIR                          55\n",
       "CANADAIR LTD                       2\n",
       "CESSNA                             8\n",
       "CIRRUS DESIGN CORP                 4\n",
       "DEHAVILLAND                       16\n",
       "DOUGLAS                          102\n",
       "EMBRAER                           55\n",
       "FRIEDEMANN JON                     2\n",
       "GULFSTREAM AEROSPACE              22\n",
       "HURLEY JAMES LARRY                 2\n",
       "JOHN G HESS                        2\n",
       "KILDALL GARY                       2\n",
       "LAMBERT RICHARD                    2\n",
       "LEARJET INC                       11\n",
       "LEBLANC GLENN T                    2\n",
       "MARZ BARRY                         2\n",
       "MCDONNELL DOUGLAS                172\n",
       "MCDONNELL DOUGLAS AIRCRAFT CO    142\n",
       "MCDONNELL DOUGLAS CORPORATION    142\n",
       "PAIR MIKE E                        2\n",
       "PIPER                              8\n",
       "ROBINSON HELICOPTER CO             5\n",
       "SIKORSKY                          14\n",
       "STEWART MACO                       2\n",
       "Name: seats, dtype: int64"
      ]
     },
     "execution_count": 21,
     "metadata": {},
     "output_type": "execute_result"
    }
   ],
   "source": [
    "planes.groupby('manufacturer')['seats'].max()"
   ]
  },
  {
   "cell_type": "markdown",
   "metadata": {},
   "source": [
    "In this output, we are shown every manufacturer and their respective seat numbers that are ordered alphabetically. To see how many planes for each manufacturer, we will show the counts for each manufacturer:"
   ]
  },
  {
   "cell_type": "code",
   "execution_count": 22,
   "metadata": {
    "collapsed": false
   },
   "outputs": [
    {
     "data": {
      "text/plain": [
       "BOEING                           1630\n",
       "AIRBUS INDUSTRIE                  400\n",
       "BOMBARDIER INC                    368\n",
       "AIRBUS                            336\n",
       "EMBRAER                           299\n",
       "MCDONNELL DOUGLAS                 120\n",
       "MCDONNELL DOUGLAS AIRCRAFT CO     103\n",
       "MCDONNELL DOUGLAS CORPORATION      14\n",
       "CESSNA                              9\n",
       "CANADAIR                            9\n",
       "PIPER                               5\n",
       "GULFSTREAM AEROSPACE                2\n",
       "BEECH                               2\n",
       "AMERICAN AIRCRAFT INC               2\n",
       "BELL                                2\n",
       "STEWART MACO                        2\n",
       "HURLEY JAMES LARRY                  1\n",
       "JOHN G HESS                         1\n",
       "FRIEDEMANN JON                      1\n",
       "MARZ BARRY                          1\n",
       "CIRRUS DESIGN CORP                  1\n",
       "BARKER JACK L                       1\n",
       "AVIAT AIRCRAFT INC                  1\n",
       "SIKORSKY                            1\n",
       "PAIR MIKE E                         1\n",
       "CANADAIR LTD                        1\n",
       "LEARJET INC                         1\n",
       "LAMBERT RICHARD                     1\n",
       "ROBINSON HELICOPTER CO              1\n",
       "LEBLANC GLENN T                     1\n",
       "AVIONS MARCEL DASSAULT              1\n",
       "KILDALL GARY                        1\n",
       "AGUSTA SPA                          1\n",
       "DOUGLAS                             1\n",
       "DEHAVILLAND                         1\n",
       "Name: manufacturer, dtype: int64"
      ]
     },
     "execution_count": 22,
     "metadata": {},
     "output_type": "execute_result"
    }
   ],
   "source": [
    "planes['manufacturer'].value_counts()"
   ]
  },
  {
   "cell_type": "markdown",
   "metadata": {},
   "source": [
    "From this output, we can infer that Boeing will have the most seats since it has the most number of planes for this manufacturer. However, we can conclude this result by finding the sum of seats for each manufacturer:"
   ]
  },
  {
   "cell_type": "code",
   "execution_count": 23,
   "metadata": {
    "collapsed": false
   },
   "outputs": [
    {
     "data": {
      "text/plain": [
       "manufacturer\n",
       "AGUSTA SPA                            8\n",
       "AIRBUS                            74324\n",
       "AIRBUS INDUSTRIE                  74961\n",
       "AMERICAN AIRCRAFT INC                 4\n",
       "AVIAT AIRCRAFT INC                    2\n",
       "AVIONS MARCEL DASSAULT               12\n",
       "BARKER JACK L                         2\n",
       "BEECH                                19\n",
       "BELL                                 16\n",
       "BOEING                           285556\n",
       "BOMBARDIER INC                    27235\n",
       "CANADAIR                            495\n",
       "CANADAIR LTD                          2\n",
       "CESSNA                               48\n",
       "CIRRUS DESIGN CORP                    4\n",
       "DEHAVILLAND                          16\n",
       "DOUGLAS                             102\n",
       "EMBRAER                           13645\n",
       "FRIEDEMANN JON                        2\n",
       "GULFSTREAM AEROSPACE                 44\n",
       "HURLEY JAMES LARRY                    2\n",
       "JOHN G HESS                           2\n",
       "KILDALL GARY                          2\n",
       "LAMBERT RICHARD                       2\n",
       "LEARJET INC                          11\n",
       "LEBLANC GLENN T                       2\n",
       "MARZ BARRY                            2\n",
       "MCDONNELL DOUGLAS                 19446\n",
       "MCDONNELL DOUGLAS AIRCRAFT CO     14626\n",
       "MCDONNELL DOUGLAS CORPORATION      1988\n",
       "PAIR MIKE E                           2\n",
       "PIPER                                34\n",
       "ROBINSON HELICOPTER CO                5\n",
       "SIKORSKY                             14\n",
       "STEWART MACO                          4\n",
       "Name: seats, dtype: int64"
      ]
     },
     "execution_count": 23,
     "metadata": {},
     "output_type": "execute_result"
    }
   ],
   "source": [
    "sum_of_seats = planes.groupby('manufacturer')['seats'].sum()\n",
    "sum_of_seats"
   ]
  },
  {
   "cell_type": "markdown",
   "metadata": {},
   "source": [
    "As shown above, the sum of seats for each manufacturer is sorted alphabetically. In order to analyze this further, we will sort the data to show the top 5 manufacturers with the most seats by setting ascending to False and .head(5):"
   ]
  },
  {
   "cell_type": "code",
   "execution_count": 24,
   "metadata": {
    "collapsed": false
   },
   "outputs": [
    {
     "data": {
      "text/plain": [
       "manufacturer\n",
       "BOEING               285556\n",
       "AIRBUS INDUSTRIE      74961\n",
       "AIRBUS                74324\n",
       "BOMBARDIER INC        27235\n",
       "MCDONNELL DOUGLAS     19446\n",
       "Name: seats, dtype: int64"
      ]
     },
     "execution_count": 24,
     "metadata": {},
     "output_type": "execute_result"
    }
   ],
   "source": [
    "sum_of_seats.sort_values(ascending=False).head(5)"
   ]
  },
  {
   "cell_type": "markdown",
   "metadata": {},
   "source": [
    "The data is now sorted by most seats for each of the 5 manufacturers: Boeing, Airbus Industrie, Airbus, Bombardier Inc, and McDonnell Douglas. To find the top plane manufacturer with the most seats, replaces .head(5) to .head(1):"
   ]
  },
  {
   "cell_type": "code",
   "execution_count": 25,
   "metadata": {
    "collapsed": false
   },
   "outputs": [
    {
     "data": {
      "text/plain": [
       "manufacturer\n",
       "BOEING    285556\n",
       "Name: seats, dtype: int64"
      ]
     },
     "execution_count": 25,
     "metadata": {},
     "output_type": "execute_result"
    }
   ],
   "source": [
    "sum_of_seats.sort_values(ascending=False).head(1)"
   ]
  },
  {
   "cell_type": "markdown",
   "metadata": {},
   "source": [
    "As confirmed, Boeing is the manufacturer that provided planes with the most seats because Boeing was the manufacturer with the most planes. "
   ]
  },
  {
   "cell_type": "markdown",
   "metadata": {},
   "source": [
    "### Final Analysis:"
   ]
  },
  {
   "cell_type": "markdown",
   "metadata": {},
   "source": [
    "Although each dataset had its own method of tidying, I believe these skills are pertinent in data analysis and data science. The planes dataset was the only table in which it was difficult to figure out every speed for each plane since there are many values. Instead, I tried to find the plane manufacturer that had the most seats (Boeing). Pertaining to california cities, there were a few minor adjustments to display the table in a tidier manner such as spacing out the city names and dropping an unnamed, extra column. As for leading deaths in New York City, it was harder to determine how to replace the periods or dots with null values. After analzying the datatypes, the object datatype should be converted to a integer or float value as well as inserting null values for them. Overall, the project was an interesting approach in tidying several wide data sets."
   ]
  }
 ],
 "metadata": {
  "kernelspec": {
   "display_name": "Python 3",
   "language": "python",
   "name": "python3"
  },
  "language_info": {
   "codemirror_mode": {
    "name": "ipython",
    "version": 3
   },
   "file_extension": ".py",
   "mimetype": "text/x-python",
   "name": "python",
   "nbconvert_exporter": "python",
   "pygments_lexer": "ipython3",
   "version": "3.6.0"
  }
 },
 "nbformat": 4,
 "nbformat_minor": 2
}
